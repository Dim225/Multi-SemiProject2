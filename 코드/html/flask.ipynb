{
 "cells": [
  {
   "cell_type": "code",
   "execution_count": 1,
   "metadata": {},
   "outputs": [],
   "source": [
    "# pip install requests_toolbelt"
   ]
  },
  {
   "cell_type": "code",
   "execution_count": 14,
   "metadata": {},
   "outputs": [],
   "source": [
    "from flask import Flask, render_template, request, url_for\n",
    "import os\n",
    "import base64\n",
    "from pprint import pprint\n",
    "from scipy.io import wavfile\n",
    "import numpy as np\n",
    "from pydub import AudioSegment\n",
    "from pydub.utils import make_chunks\n",
    "\n",
    "# from requests_toolbelt.multipart import decoder\n"
   ]
  },
  {
   "cell_type": "code",
   "execution_count": 3,
   "metadata": {},
   "outputs": [],
   "source": [
    "host_addr = \"0.0.0.0\"\n",
    "port_num = \"5050\""
   ]
  },
  {
   "cell_type": "code",
   "execution_count": 19,
   "metadata": {},
   "outputs": [
    {
     "name": "stdout",
     "output_type": "stream",
     "text": [
      " * Serving Flask app '__main__' (lazy loading)\n",
      " * Environment: production\n",
      "\u001b[31m   WARNING: This is a development server. Do not use it in a production deployment.\u001b[0m\n",
      "\u001b[2m   Use a production WSGI server instead.\u001b[0m\n",
      " * Debug mode: off\n"
     ]
    },
    {
     "name": "stderr",
     "output_type": "stream",
     "text": [
      " * Running on http://127.0.0.1:5000 (Press CTRL+C to quit)\n"
     ]
    }
   ],
   "source": [
    "app = Flask(__name__)\n",
    "\n",
    "audio_blob = None\n",
    "# 웹 페이지 접속시 메인 화면\n",
    "@app.route('/',  methods=['GET'])\n",
    "def main_loading():\n",
    "    mask = \"img/mask2.png\"\n",
    "    return render_template(\"main.html\", mask = mask)\n",
    "\n",
    "# 파일 업로드 및 해당 파일 화면에 출력\n",
    "@app.route('/result',  methods=['GET', 'POST'])\n",
    "def upload_file():\n",
    "    # 파일 정보 받아오기\n",
    "    age = request.form[\"age\"]\n",
    "    gender = request.form[\"gender\"]\n",
    "    print(audio_blob)\n",
    "    healthy = request.form.getlist(\"healty\")\n",
    "    \n",
    "    #저장한 파일 화면에 출력하기\n",
    "    return render_template(\"result.html\", age=age)\n",
    "@app.route('/set',  methods=['GET', 'POST'])\n",
    "\n",
    "def set_audio():\n",
    "    global audio_blob \n",
    "    audio_blob = request.get_data(\"audio_blob\")\n",
    "    decode_string = base64.b64decode(audio_blob)\n",
    "    print(audio_blob)\n",
    "    print()\n",
    "    print(decode_string)\n",
    "    a = bytearray(decode_string)\n",
    "    b = np.array(a, dtype=np.int16)\n",
    "    \n",
    "    wavfile.write(\"test3.wav\", 16000, b)\n",
    "\n",
    "    return \"ok\"\n",
    "\n",
    "\n",
    "\n",
    "\n",
    "if __name__ == \"__main__\":\n",
    "    app.run()  "
   ]
  },
  {
   "cell_type": "code",
   "execution_count": null,
   "metadata": {},
   "outputs": [],
   "source": []
  },
  {
   "cell_type": "code",
   "execution_count": 117,
   "metadata": {},
   "outputs": [
    {
     "name": "stdout",
     "output_type": "stream",
     "text": [
      "array([45, 45, 45, ..., 45, 13, 10], dtype=int16)\n"
     ]
    }
   ],
   "source": []
  },
  {
   "cell_type": "code",
   "execution_count": 120,
   "metadata": {},
   "outputs": [],
   "source": []
  },
  {
   "cell_type": "code",
   "execution_count": null,
   "metadata": {},
   "outputs": [],
   "source": []
  }
 ],
 "metadata": {
  "kernelspec": {
   "display_name": "Python 3.9.7 ('kdig')",
   "language": "python",
   "name": "python3"
  },
  "language_info": {
   "codemirror_mode": {
    "name": "ipython",
    "version": 3
   },
   "file_extension": ".py",
   "mimetype": "text/x-python",
   "name": "python",
   "nbconvert_exporter": "python",
   "pygments_lexer": "ipython3",
   "version": "3.9.7"
  },
  "orig_nbformat": 4,
  "vscode": {
   "interpreter": {
    "hash": "b10743a6073efad4b61ac31858ae9e785f41726804932c77b020dd3e787ed9f2"
   }
  }
 },
 "nbformat": 4,
 "nbformat_minor": 2
}
