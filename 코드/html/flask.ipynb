{
 "cells": [
  {
   "cell_type": "code",
   "execution_count": 1,
   "metadata": {},
   "outputs": [],
   "source": [
    "# pip install requests_toolbelt"
   ]
  },
  {
   "cell_type": "code",
   "execution_count": 12,
   "metadata": {},
   "outputs": [],
   "source": [
    "from flask import Flask, render_template, request, url_for\n",
    "import os\n",
    "import io\n",
    "import numpy as np\n",
    "import soundfile\n",
    "from werkzeug.utils import secure_filename\n",
    "from pydub.utils import make_chunks\n",
    "from scipy.io import wavfile\n",
    "\n",
    "# from requests_toolbelt.multipart import decoder\n"
   ]
  },
  {
   "cell_type": "code",
   "execution_count": 2,
   "metadata": {},
   "outputs": [],
   "source": [
    "host_addr = \"0.0.0.0\"\n",
    "port_num = \"5050\""
   ]
  },
  {
   "cell_type": "code",
   "execution_count": 45,
   "metadata": {},
   "outputs": [
    {
     "name": "stdout",
     "output_type": "stream",
     "text": [
      " * Serving Flask app '__main__' (lazy loading)\n",
      " * Environment: production\n",
      "\u001b[31m   WARNING: This is a development server. Do not use it in a production deployment.\u001b[0m\n",
      "\u001b[2m   Use a production WSGI server instead.\u001b[0m\n",
      " * Debug mode: off\n"
     ]
    },
    {
     "name": "stderr",
     "output_type": "stream",
     "text": [
      " * Running on http://127.0.0.1:5000 (Press CTRL+C to quit)\n",
      "127.0.0.1 - - [13/Jun/2022 22:46:58] \"GET /selectNum HTTP/1.1\" 200 -\n",
      "127.0.0.1 - - [13/Jun/2022 22:46:58] \"GET /static/img/coronavirus1.png HTTP/1.1\" 304 -\n",
      "127.0.0.1 - - [13/Jun/2022 22:46:58] \"GET /static/img/coronavirus2.png HTTP/1.1\" 304 -\n",
      "127.0.0.1 - - [13/Jun/2022 22:46:58] \"GET /static/img/coronavirus3.png HTTP/1.1\" 304 -\n",
      "127.0.0.1 - - [13/Jun/2022 22:47:02] \"GET /selectNum HTTP/1.1\" 200 -\n",
      "127.0.0.1 - - [13/Jun/2022 22:47:02] \"GET /static/img/coronavirus1.png HTTP/1.1\" 304 -\n",
      "127.0.0.1 - - [13/Jun/2022 22:47:02] \"GET /static/img/coronavirus2.png HTTP/1.1\" 304 -\n",
      "127.0.0.1 - - [13/Jun/2022 22:47:02] \"GET /static/img/coronavirus3.png HTTP/1.1\" 304 -\n"
     ]
    }
   ],
   "source": [
    "app = Flask(__name__)\n",
    "\n",
    "\n",
    "\n",
    "# 웹 페이지 접속시 메인 화면\n",
    "@app.route('/',  methods=['GET'])\n",
    "def main_loading():\n",
    "    mask = \"img/mask2.png\"\n",
    "    return render_template(\"main.html\", mask = mask)\n",
    "\n",
    "@app.route('/selectNum',  methods=['GET'])\n",
    "def select_number():\n",
    "    covid1 = \"img/coronavirus1.png\"\n",
    "    covid2 = \"img/coronavirus2.png\"\n",
    "    covid3 = \"img/coronavirus3.png\"\n",
    "\n",
    "    return render_template(\"select_number.html\", coivd1=covid1, coivd2=covid2, coivd3=covid3 )\n",
    "\n",
    "# 파일 업로드 및 해당 파일 화면에 출력\n",
    "@app.route('/result',  methods=['POST'])\n",
    "def upload_file():\n",
    "    if 'test_number' in request.form.keys:\n",
    "        test_number = request.form[\"test_number\"]\n",
    "        \n",
    "    elif 'age' in request.form.keys:\n",
    "        # 파일 정보 받아오기\n",
    "        age = request.form[\"age\"]\n",
    "        gender = request.form[\"gender\"]\n",
    "        healthy = request.form.getlist(\"healty\")\n",
    "        \n",
    "        #저장한 파일 화면에 출력하기\n",
    "    return render_template(\"result.html\", age=age)\n",
    "\n",
    "@app.route('/set',  methods=['POST'])\n",
    "def set():\n",
    "    # global audio_blob\n",
    "    if 'audio_blob' in request.files:\n",
    "        file = request.files['audio_blob']\n",
    "        # Write the data to a file.\n",
    "        \n",
    "        filename = secure_filename(file.filename)\n",
    "        filepath = \"stataic/audio/\" + filename\n",
    "        file.save(filepath+\".wav\")\n",
    "        # Jump back to the beginning of the file.\n",
    "        file.seek(0,0)\n",
    "        # print(np.array(file))\n",
    "        print(file.__dict__)\n",
    "        print(type(file))\n",
    "\n",
    "        wavfile.write()\n",
    "        \n",
    "\n",
    "    return \"good\"\n",
    "\n",
    "if __name__ == \"__main__\":\n",
    "    app.run()  "
   ]
  },
  {
   "cell_type": "code",
   "execution_count": null,
   "metadata": {},
   "outputs": [],
   "source": []
  },
  {
   "cell_type": "code",
   "execution_count": 117,
   "metadata": {},
   "outputs": [
    {
     "name": "stdout",
     "output_type": "stream",
     "text": [
      "array([45, 45, 45, ..., 45, 13, 10], dtype=int16)\n"
     ]
    }
   ],
   "source": []
  },
  {
   "cell_type": "code",
   "execution_count": 120,
   "metadata": {},
   "outputs": [],
   "source": []
  },
  {
   "cell_type": "code",
   "execution_count": null,
   "metadata": {},
   "outputs": [],
   "source": []
  }
 ],
 "metadata": {
  "kernelspec": {
   "display_name": "Python 3.9.7 ('kdig')",
   "language": "python",
   "name": "python3"
  },
  "language_info": {
   "codemirror_mode": {
    "name": "ipython",
    "version": 3
   },
   "file_extension": ".py",
   "mimetype": "text/x-python",
   "name": "python",
   "nbconvert_exporter": "python",
   "pygments_lexer": "ipython3",
   "version": "3.9.7"
  },
  "orig_nbformat": 4,
  "vscode": {
   "interpreter": {
    "hash": "b10743a6073efad4b61ac31858ae9e785f41726804932c77b020dd3e787ed9f2"
   }
  }
 },
 "nbformat": 4,
 "nbformat_minor": 2
}
