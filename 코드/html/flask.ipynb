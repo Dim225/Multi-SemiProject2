{
 "cells": [
  {
   "cell_type": "code",
   "execution_count": null,
   "metadata": {},
   "outputs": [],
   "source": [
    "pip install Flask"
   ]
  },
  {
   "cell_type": "code",
   "execution_count": 19,
   "metadata": {},
   "outputs": [],
   "source": [
    "from flask import Flask, render_template, request, url_for\n",
    "import os"
   ]
  },
  {
   "cell_type": "code",
   "execution_count": 20,
   "metadata": {},
   "outputs": [],
   "source": [
    "host_addr = \"0.0.0.0\"\n",
    "port_num = \"5050\""
   ]
  },
  {
   "cell_type": "code",
   "execution_count": 52,
   "metadata": {},
   "outputs": [
    {
     "name": "stdout",
     "output_type": "stream",
     "text": [
      " * Serving Flask app '__main__' (lazy loading)\n",
      " * Environment: production\n",
      "\u001b[31m   WARNING: This is a development server. Do not use it in a production deployment.\u001b[0m\n",
      "\u001b[2m   Use a production WSGI server instead.\u001b[0m\n",
      " * Debug mode: off\n"
     ]
    },
    {
     "name": "stderr",
     "output_type": "stream",
     "text": [
      " * Running on http://127.0.0.1:5000 (Press CTRL+C to quit)\n",
      "127.0.0.1 - - [13/Jun/2022 00:59:11] \"GET / HTTP/1.1\" 200 -\n",
      "127.0.0.1 - - [13/Jun/2022 00:59:11] \"GET /static/img/mask2.png HTTP/1.1\" 304 -\n",
      "127.0.0.1 - - [13/Jun/2022 00:59:17] \"POST / HTTP/1.1\" 200 -\n"
     ]
    },
    {
     "name": "stdout",
     "output_type": "stream",
     "text": [
      "[]\n"
     ]
    }
   ],
   "source": [
    "app = Flask(__name__)\n",
    "\n",
    "\n",
    "# 웹 페이지 접속시 메인 화면\n",
    "@app.route('/',  methods=['GET'])\n",
    "def main_loading():\n",
    "    mask = \"img/mask2.png\"\n",
    "    return render_template(\"main.html\", mask = mask)\n",
    "\n",
    "# 파일 업로드 및 해당 파일 화면에 출력\n",
    "@app.route('/',  methods=['GET', 'POST'])\n",
    "def upload_file():\n",
    "    # 파일 정보 받아오기\n",
    "    age = request.form[\"age\"]\n",
    "    gender = request.form[\"gender\"]\n",
    "    audio_src = request.form[\"audio_src\"]\n",
    "    healthy = request.form.getlist(\"healty[]\")\n",
    "    print(healthy)\n",
    "    \n",
    "    \n",
    "    #저장한 파일 화면에 출력하기\n",
    "    return render_template(\"result.html\", age=age)\n",
    "\n",
    "if __name__ == \"__main__\":\n",
    "    app.run()  "
   ]
  },
  {
   "cell_type": "code",
   "execution_count": 7,
   "metadata": {},
   "outputs": [],
   "source": []
  },
  {
   "cell_type": "code",
   "execution_count": null,
   "metadata": {},
   "outputs": [],
   "source": [
    "\n",
    "    "
   ]
  }
 ],
 "metadata": {
  "kernelspec": {
   "display_name": "Python 3.9.7 64-bit",
   "language": "python",
   "name": "python3"
  },
  "language_info": {
   "codemirror_mode": {
    "name": "ipython",
    "version": 3
   },
   "file_extension": ".py",
   "mimetype": "text/x-python",
   "name": "python",
   "nbconvert_exporter": "python",
   "pygments_lexer": "ipython3",
   "version": "3.9.7"
  },
  "orig_nbformat": 4,
  "vscode": {
   "interpreter": {
    "hash": "3bf7add00c9a25cfae93e229ea6746c12d5b2d3f5352b602c70ee79027d2a14d"
   }
  }
 },
 "nbformat": 4,
 "nbformat_minor": 2
}
